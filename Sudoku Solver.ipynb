{
 "cells": [
  {
   "cell_type": "markdown",
   "metadata": {},
   "source": [
    "# 16x16 Sudoku Solver"
   ]
  },
  {
   "cell_type": "markdown",
   "metadata": {},
   "source": [
    "*by Wei Xi, Yaowei Zong, December, 2017*"
   ]
  },
  {
   "cell_type": "markdown",
   "metadata": {},
   "source": [
    "## Introduction"
   ]
  },
  {
   "cell_type": "markdown",
   "metadata": {},
   "source": [
    "Sudoku has been one of the most popular brain game for a long time. The goal of the game is to fill a 9x9 puzzle grid with numbers so that each row, column and 3×3 section contain all of the digits between 1 and 9. Both of us like solving a 9x9 sudoku puzzle at ordinary times but we never tried to solve a 16x16 one. And we are wondering if there’s any AI related algorithm that can help us to do so. After doing some research online, we’ve found that the constrict propagation and the search algorithm is very useful to those kind of problem. So for this term project, we would like to study the algorithms and the 9x9 sudoku solver which is written by Peter Norvig used and modifty it so it can also be applied to a 16x16 sudoku solver.\n"
   ]
  },
  {
   "cell_type": "markdown",
   "metadata": {},
   "source": [
    "## Methods"
   ]
  },
  {
   "cell_type": "markdown",
   "metadata": {},
   "source": [
    "So at first, we tried to solve the 16x16 puzzle only by constraint popagation. In constraint popagation each state is list of valid values for each variable and next states are ones with different list of valid values. We implemented several methods for it. First, we need to read in the puzzle and parse it into a grid. Since it's a 16x16 puzzle, we define columns as hexidecimal number from 1 to 16, so we have \"123456789abcdefg\" and rows as upper case alphabet numbers, so we have \"ABCDEFGHIJKLMNOP\". We do a cross product of the cols of row so we can have A1,A2...Pf,Pg represents all the squares. We also define the units and peers. In one unit, all the digit can only appear once. Each square should have 3 unit and 48 peers where the sqaures that shares a unit is call peer."
   ]
  },
  {
   "cell_type": "code",
   "execution_count": null,
   "metadata": {
    "collapsed": true
   },
   "outputs": [],
   "source": [
    "def cross(A, B):\n",
    "    \"Cross product of elements in A and elements in B.\"\n",
    "    return [a+b for a in A for b in B]"
   ]
  },
  {
   "cell_type": "code",
   "execution_count": null,
   "metadata": {
    "collapsed": true
   },
   "outputs": [],
   "source": [
    "digits   = '123456789abcdefg'\n",
    "rows     = 'ABCDEFGHIJKLMNOP'\n",
    "cols     = digits\n",
    "squares  = cross(rows, cols)\n",
    "unitlist = ([cross(rows, c) for c in cols] +\n",
    "        [cross(r, cols) for r in rows] +\n",
    "        [cross(rs, cs) for rs in ('ABCD','EFGH','IJKL','MNOP') for cs in ('1234','5678','9abc','defg')])\n",
    "units = dict((s, [u for u in unitlist if s in u]) \n",
    "         for s in squares)\n",
    "peers = dict((s, set(sum(units[s],[]))-set([s]))\n",
    "         for s in squares)\n",
    "grid1  = '.f.1.2aec........63gc.84ef1.2...e.97b3f.........4d2c....6....f......e1b735a..8.c3g..24...e7d..5fb.5......94..6......d.g5f..c........9.1c.83ab.f.2c.b..e354....9.63.4..d..b91.cg2..a9......c.8.67c8..g..a.d...5..5...3.46.1f......916.e.b..2...a8.e...d9.4cb8..2.'.lower()\n"
   ]
  },
  {
   "cell_type": "markdown",
   "metadata": {},
   "source": [
    "A1 A2 A3 A4 |A5 A6 A7 A8 |A9 Aa Ab Ac |Ad Ae Af Ag  \n",
    "B1 B2 B3 B4 |B5 B6 B7 B8 |B9 Ba Bb Bc |Bd Be Bf Bg  \n",
    "C1 C2 C3 C4 |C5 C6 C7 C8 |C9 Ca Cb Cc |Cd Ce Cf Cg  \n",
    "D1 D2 D3 D4 |D5 D6 D7 D8 |D9 Da Db Dc |Dd De Df Dg  \n",
    "------------+------------+------------+-----------  \n",
    "E1 E2 E3 E4 |E5 E6 E7 E8 |E9 Ea Eb Ec |Ed Ee Ef Eg  \n",
    "F1 F2 F3 F4 |F5 F6 F7 F8 |F9 Fa Fb Fc |Fd Fe Ff Fg  \n",
    "G1 G2 G3 G4 |G5 G6 G7 G8 |G9 Ga Gb Gc |Gd Ge Gf Gg  \n",
    "H1 H2 H3 H4 |H5 H6 H7 H8 |H9 Ha Hb Hc |Hd He Hf Hg  \n",
    "------------+------------+------------+-----------  \n",
    "I1 I2 I3 I4 |I5 I6 I7 I8 |I9 Ia Ib Ic |Id Ie If Ig  \n",
    "J1 J2 J3 J4 |J5 J6 J7 J8 |J9 Ja Jb Jc |Jd Je Jf Jg  \n",
    "K1 K2 K3 K4 |K5 K6 K7 K8 |K9 Ka Kb Kc |Kd Ke Kf Kg  \n",
    "L1 L2 L3 L4 |L5 L6 L7 L8 |L9 La Lb Lc |Ld Le Lf Lg  \n",
    "------------+------------+------------+-----------  \n",
    "M1 M2 M3 M4 |M5 M6 M7 M8 |M9 Ma Mb Mc |Md Me Mf Mg  \n",
    "N1 N2 N3 N4 |N5 N6 N7 N8 |N9 Na Nb Nc |Nd Ne Nf Ng  \n",
    "O1 O2 O3 O4 |O5 O6 O7 O8 |O9 Oa Ob Oc |Od Oe Of Og  \n",
    "P1 P2 P3 P4 |P5 A6 A7 A8 |A9 Aa Ab Ac |Ad Ae Af Ag  "
   ]
  },
  {
   "cell_type": "markdown",
   "metadata": {},
   "source": [
    "Then, we will have parse_grid_16(), grid_value_16(), assign and eliminate() to pass a given grid. For example,'.f.1.2aec........63gc.84ef1.2...e.97b3f.........4d2c....6....f......e1b735a..8.c3g..24...e7d..5fb.5......94..6......d.g5f..c........9.1c.83ab.f.2c.b..e354....9.63.4..d..b91.cg2..a9......c.8.67c8..g..a.d...5..5...3.46.1f......916.e.b..2...a8.e...d9.4cb8..2.'. We convert a given grid into a dict of {square: char} with '0' or '.' for empties. After that, it's time to implement the body of the constraint propagation. There are two main roles it should follow, \"(1) If a square has only one possible value, then eliminate that value from the square's peers. (2) If a unit has only one possible place for a value, then put the value there.\",quated from Peter Norvig. \n"
   ]
  },
  {
   "cell_type": "code",
   "execution_count": null,
   "metadata": {
    "collapsed": true
   },
   "outputs": [],
   "source": [
    "def parse_grid_16(grid):\n",
    "\t\"\"\"Convert grid to a dict of possible values, {square: digits}, or\n",
    "\treturn False if a contradiction is detected.\"\"\"\n",
    "\t## To start, every square can be any digit; then assign values from the grid.\n",
    "\tvalues = dict((s, digits) for s in squares)\n",
    "\tfor s,d in grid_values_16(grid).items():\n",
    "\t\tif d in digits and not assign(values, s, d):\n",
    "\t\t\treturn False ## (Fail if we can't assign d to square s.)\n",
    "\treturn values\n",
    "def grid_values_16(grid):\n",
    "\t#\"Convert grid into a dict of {square: char} with '0' or '.' for empties.\"\n",
    "\tchars = [c for c in grid if c in digits or c in '0.']\n",
    "\tassert len(chars) == 256\n",
    "\treturn dict(zip(squares, chars))\n",
    "\n",
    "def assign(values, s, d):\n",
    "\t\"\"\"Eliminate all the other values (except d) from values[s] and propagate.\n",
    "\tReturn values, except return False if a contradiction is detected.\"\"\"\n",
    "\tother_values = values[s].replace(d, '')\n",
    "\tif all(eliminate(values, s, d2) for d2 in other_values):\n",
    "\t\treturn values\n",
    "\telse:\n",
    "\t\treturn False\n",
    "\n",
    "def eliminate(values, s, d):\n",
    "\t\"\"\"Eliminate d from values[s]; propagate when values or places <= 2.\n",
    "\tReturn values, except return False if a contradiction is detected.\"\"\"\n",
    "\tif d not in values[s]:\n",
    "\t\treturn values ## Already eliminated\n",
    "\tvalues[s] = values[s].replace(d,'')\n",
    "\t## (1) If a square s is reduced to one value d2, then eliminate d2 from the peers.\n",
    "\tif len(values[s]) == 0:\n",
    "\t\treturn False ## Contradiction: removed last value\n",
    "\telif len(values[s]) == 1:\n",
    "\t\td2 = values[s]\n",
    "\t\tif not all(eliminate(values, s2, d2) for s2 in peers[s]):\n",
    "\t\t\treturn False\n",
    "\t## (2) If a unit u is reduced to only one place for a value d, then put it there.\n",
    "\tfor u in units[s]:\n",
    "\t\tdplaces = [s for s in u if d in values[s]]\n",
    "\tif len(dplaces) == 0:\n",
    "\t\treturn False ## Contradiction: no place for this value\n",
    "\telif len(dplaces) == 1:\n",
    "\t\t# d can only be in one place in unit; assign it there\n",
    "\t\t\tif not assign(values, dplaces[0], d):\n",
    "\t\t\t\treturn False\n",
    "\treturn values\n",
    "\n",
    "\n",
    "\n",
    "def display_16(values):\n",
    "\t#\"Display these values as a 2-D grid.\"\n",
    "\twidth = 1+max(len(values[s]) for s in squares)\n",
    "\tline = '+'.join(['-'*(width*4)]*4)\n",
    "\tfor r in rows:\n",
    "\t\tprint (''.join(values[r+c].center(width)+('|' if c in '48c' else '')\n",
    "\t\t\t\t\t  for c in cols))\n",
    "\t\tif r in 'DHL': print (line)\n",
    "\tprint"
   ]
  },
  {
   "cell_type": "markdown",
   "metadata": {},
   "source": [
    "Ok, let's see how it works for a simple 16x16 grid."
   ]
  },
  {
   "cell_type": "code",
   "execution_count": 1,
   "metadata": {},
   "outputs": [
    {
     "ename": "NameError",
     "evalue": "name 'display_16' is not defined",
     "output_type": "error",
     "traceback": [
      "\u001b[0;31m---------------------------------------------------------------------------\u001b[0m",
      "\u001b[0;31mNameError\u001b[0m                                 Traceback (most recent call last)",
      "\u001b[0;32m<ipython-input-1-acc9be3889be>\u001b[0m in \u001b[0;36m<module>\u001b[0;34m()\u001b[0m\n\u001b[1;32m      1\u001b[0m \u001b[0mgrid1\u001b[0m  \u001b[0;34m=\u001b[0m \u001b[0;34m'.f.1.2aec........63gc.84ef1.2...e.97b3f.........4d2c....6....f......e1b735a..8.c3g..24...e7d..5fb.5......94..6......d.g5f..c........9.1c.83ab.f.2c.b..e354....9.63.4..d..b91.cg2..a9......c.8.67c8..g..a.d...5..5...3.46.1f......916.e.b..2...a8.e...d9.4cb8..2.'\u001b[0m\u001b[0;34m.\u001b[0m\u001b[0mlower\u001b[0m\u001b[0;34m(\u001b[0m\u001b[0;34m)\u001b[0m\u001b[0;34m\u001b[0m\u001b[0m\n\u001b[0;32m----> 2\u001b[0;31m \u001b[0mdisplay_16\u001b[0m\u001b[0;34m(\u001b[0m\u001b[0mparse_grid_16\u001b[0m\u001b[0;34m(\u001b[0m\u001b[0mgrid1\u001b[0m\u001b[0;34m)\u001b[0m\u001b[0;34m)\u001b[0m\u001b[0;34m\u001b[0m\u001b[0m\n\u001b[0m",
      "\u001b[0;31mNameError\u001b[0m: name 'display_16' is not defined"
     ]
    }
   ],
   "source": [
    "grid1  = '.f.1.2aec........63gc.84ef1.2...e.97b3f.........4d2c....6....f......e1b735a..8.c3g..24...e7d..5fb.5......94..6......d.g5f..c........9.1c.83ab.f.2c.b..e354....9.63.4..d..b91.cg2..a9......c.8.67c8..g..a.d...5..5...3.46.1f......916.e.b..2...a8.e...d9.4cb8..2.'.lower()\n",
    "display_16(parse_grid_16(grid1))"
   ]
  },
  {
   "cell_type": "markdown",
   "metadata": {},
   "source": [
    "Some square are defined but some are not. It's the time to implement search algorithm."
   ]
  },
  {
   "cell_type": "code",
   "execution_count": null,
   "metadata": {
    "collapsed": true
   },
   "outputs": [],
   "source": [
    "def solve_16(grid): return search(parse_grid_16(grid))\n",
    "\n",
    "def search(values):\n",
    "\t\"Using depth-first search and propagation, try all possible values.\"\n",
    "\tif values is False:\n",
    "\t\treturn False ## Failed earlier\n",
    "\tif all(len(values[s]) == 1 for s in squares): \n",
    "\t\treturn values ## Solved!\n",
    "\t## Chose the unfilled square s with the fewest possibilities\n",
    "\tn,s = min((len(values[s]), s) for s in squares if len(values[s]) > 1)\n",
    "\treturn some(search(assign(values.copy(), s, d)) \n",
    "\t\tfor d in values[s])\n",
    "\n",
    "def some(seq):\n",
    "\t\"Return some element of seq that is true.\"\n",
    "\tfor e in seq:\n",
    "\t\tif e: return e\n",
    "\treturn False\n",
    "\n",
    "import time\n",
    "def solve_all(grids, name='', showif=0.0):\n",
    "\t\"\"\"Attempt to solve a sequence of grids. Report results.\n",
    "\tWhen showif is a number of seconds, display puzzles that take longer.\n",
    "\tWhen showif is None, don't display any puzzles.\"\"\"\n",
    "\tdef time_solve(grid):\n",
    "\t\tstart = time.clock()\n",
    "\t\tvalues = solve_16(grid)\n",
    "\t\tt = time.clock()-start\n",
    "\t\t## Display puzzles that take long enough\n",
    "\t\tif showif is not None and t > showif:\n",
    "\t\t\tdisplay_16(grid_values_16(grid))\n",
    "\t\t\tprint(\"\")\n",
    "\t\t\tif values: display_16(values)\n",
    "\t\t\tprint ('(%.2f seconds)\\n' % t)\n",
    "\t\treturn (t, solved(values))\n",
    "\ttimes, results = zip(*[time_solve(grid) for grid in grids])\n",
    "\tN = len(results)\n",
    "\tif N > 1:\n",
    "\t\tprint (\"Solved %d of %d %s puzzles (avg %.2f secs (%d Hz), max %.2f secs).\" % (\n",
    "\t\t\tsum(results), N, name, sum(times)/N, N/sum(times), max(times)))\n",
    "\t\t\t\n",
    "\n",
    "\n",
    "def solved(values):\n",
    "\t\"A puzzle is solved if each unit is a permutation of the digits 1 to 9.\"\n",
    "\tdef unitsolved(unit): return set(values[s] for s in unit) == set(digits)\n",
    "\treturn values is not False and all(unitsolved(unit) for unit in unitlist)"
   ]
  },
  {
   "cell_type": "markdown",
   "metadata": {},
   "source": [
    "What we have is a simply depth first search algorithm to try all posibilities. "
   ]
  },
  {
   "cell_type": "code",
   "execution_count": null,
   "metadata": {
    "collapsed": true
   },
   "outputs": [],
   "source": [
    "solve_all([grid1])"
   ]
  },
  {
   "cell_type": "markdown",
   "metadata": {},
   "source": [
    "## Results"
   ]
  },
  {
   "cell_type": "markdown",
   "metadata": {},
   "source": [
    "Show all results.  Intermediate resultw might be shown in above Methods section.  Plots, tables, whatever."
   ]
  },
  {
   "cell_type": "markdown",
   "metadata": {},
   "source": [
    "## Conclusions"
   ]
  },
  {
   "cell_type": "markdown",
   "metadata": {},
   "source": [
    "What I learned.asdferaf ef erge g erg "
   ]
  },
  {
   "cell_type": "markdown",
   "metadata": {},
   "source": [
    "### References"
   ]
  },
  {
   "cell_type": "markdown",
   "metadata": {},
   "source": [
    "* [Russell and Norvig, 2014] Stuart Russell and Peter Norvig, [Artificial Intelligence: A Modern Approach](http://aima.cs.berkeley.edu/), Publisher. 2014.\n",
    "* [chuck] me, fldfkafjlak"
   ]
  },
  {
   "cell_type": "markdown",
   "metadata": {
    "collapsed": true
   },
   "source": [
    "Your report should contain approximately 1,500 to 5,000 words, in markdown cells.  You can count words by running the following python code in your report directory."
   ]
  },
  {
   "cell_type": "code",
   "execution_count": 2,
   "metadata": {},
   "outputs": [
    {
     "name": "stdout",
     "output_type": "stream",
     "text": [
      "Word count for file Sudoku Solver.ipynb is 762\n"
     ]
    },
    {
     "name": "stderr",
     "output_type": "stream",
     "text": [
      "/usr/local/lib/python3.6/site-packages/nbformat/current.py:19: UserWarning: nbformat.current is deprecated.\n",
      "\n",
      "- use nbformat for read/write/validate public API\n",
      "- use nbformat.vX directly to composing notebooks of a particular version\n",
      "\n",
      "  \"\"\")\n"
     ]
    }
   ],
   "source": [
    "import io\n",
    "from nbformat import current\n",
    "import glob\n",
    "nbfile = glob.glob('*.ipynb')\n",
    "if len(nbfile) > 1:\n",
    "    print('More than one ipynb file. Using the first one.  nbfile=', nbfile)\n",
    "with io.open(nbfile[0], 'r', encoding='utf-8') as f:\n",
    "    nb = current.read(f, 'json')\n",
    "word_count = 0\n",
    "for cell in nb.worksheets[0].cells:\n",
    "    if cell.cell_type == \"markdown\":\n",
    "        word_count += len(cell['source'].replace('#', '').lstrip().split(' '))\n",
    "print('Word count for file', nbfile[0], 'is', word_count)"
   ]
  },
  {
   "cell_type": "code",
   "execution_count": null,
   "metadata": {
    "collapsed": true
   },
   "outputs": [],
   "source": []
  }
 ],
 "metadata": {
  "kernelspec": {
   "display_name": "Python 3",
   "language": "python",
   "name": "python3"
  },
  "language_info": {
   "codemirror_mode": {
    "name": "ipython",
    "version": 3
   },
   "file_extension": ".py",
   "mimetype": "text/x-python",
   "name": "python",
   "nbconvert_exporter": "python",
   "pygments_lexer": "ipython3",
   "version": "3.6.0"
  }
 },
 "nbformat": 4,
 "nbformat_minor": 1
}
